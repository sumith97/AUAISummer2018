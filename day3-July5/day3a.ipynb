{
 "cells": [
  {
   "cell_type": "markdown",
   "metadata": {},
   "source": [
    "# AUAI Summer-Python Basic (1)\n",
    "* reference 1 https://docs.python.org/3.6/library/\n",
    "* reference 1 https://www.w3schools.com/python"
   ]
  },
  {
   "cell_type": "markdown",
   "metadata": {},
   "source": [
    "## Step 1: Hello World\n",
    "* using print()\n",
    "* line comment with #\n",
    "* Docstring with '''...''' or \"\"\"...\"\"\""
   ]
  },
  {
   "cell_type": "code",
   "execution_count": 3,
   "metadata": {},
   "outputs": [
    {
     "name": "stdout",
     "output_type": "stream",
     "text": [
      "hello world\n"
     ]
    }
   ],
   "source": [
    "# this is the first comment\n",
    "print(\"hello world\")"
   ]
  },
  {
   "cell_type": "markdown",
   "metadata": {},
   "source": [
    "## Step 2: Vaiable \n",
    "* Numbers, Strings, Lists, Tuples, Sets, Dictionaries\n",
    "* 2 integer 3.75 floating point \n",
    "* String with single/double quotes '' \"\"\n",
    "* Constructors int(), float(), complex(), and str()\n",
    "* List with square brackets [,,]  [\"cat\", \"dog\"]\n",
    "* Tuples with round brackets (,,,)\n",
    "* Dictionary with {\"a\"=\"cat\", \"b\"=\"dog\"} dict(a=\"cat\", b=\"dog\")"
   ]
  },
  {
   "cell_type": "code",
   "execution_count": 11,
   "metadata": {},
   "outputs": [
    {
     "name": "stdout",
     "output_type": "stream",
     "text": [
      "72 21.25 sumith\n",
      "it worked\n"
     ]
    }
   ],
   "source": [
    "x = 72\n",
    "y = 21.25\n",
    "z = \"sumith\"\n",
    "print(\"{} {} {}\".format(x,y,z),end=\"\\n\")\n",
    "print(\"it worked\")"
   ]
  },
  {
   "cell_type": "markdown",
   "metadata": {},
   "source": [
    "## Step 3: Formatted output\n",
    "* \"%2d\", \"%.2f\" % a\n",
    "* '%s %s'  %  ('one' , 'two')\n",
    "* '{} {}'.format('one', 'two')\n",
    "* print (..., end='\\t')  print (..., end=' ') "
   ]
  },
  {
   "cell_type": "code",
   "execution_count": 1,
   "metadata": {},
   "outputs": [
    {
     "name": "stdout",
     "output_type": "stream",
     "text": [
      "one two\n",
      "one two\n"
     ]
    }
   ],
   "source": [
    "print('%s %s'  %  ('one' , 'two'))\n",
    "print('{} {}'.format('one', 'two'))"
   ]
  },
  {
   "cell_type": "markdown",
   "metadata": {},
   "source": [
    "## Step 4: Loop\n",
    "* using range function as range(start, stop, step)\n",
    "* range(3)\n",
    "* range(1,10)\n",
    "* for x in [1, 2, 3]:"
   ]
  },
  {
   "cell_type": "code",
   "execution_count": 13,
   "metadata": {},
   "outputs": [
    {
     "name": "stdout",
     "output_type": "stream",
     "text": [
      "1*1= 1\t2*1= 2\t3*1= 3\t\n",
      "1*2= 2\t2*2= 4\t3*2= 6\t\n",
      "1*3= 3\t2*3= 6\t3*3= 9\t\n",
      "1*4= 4\t2*4= 8\t3*4=12\t\n",
      "1*5= 5\t2*5=10\t3*5=15\t\n",
      "1*6= 6\t2*6=12\t3*6=18\t\n",
      "1*7= 7\t2*7=14\t3*7=21\t\n",
      "1*8= 8\t2*8=16\t3*8=24\t\n",
      "1*9= 9\t2*9=18\t3*9=27\t\n",
      "\n",
      "4*1= 4\t5*1= 5\t6*1= 6\t\n",
      "4*2= 8\t5*2=10\t6*2=12\t\n",
      "4*3=12\t5*3=15\t6*3=18\t\n",
      "4*4=16\t5*4=20\t6*4=24\t\n",
      "4*5=20\t5*5=25\t6*5=30\t\n",
      "4*6=24\t5*6=30\t6*6=36\t\n",
      "4*7=28\t5*7=35\t6*7=42\t\n",
      "4*8=32\t5*8=40\t6*8=48\t\n",
      "4*9=36\t5*9=45\t6*9=54\t\n",
      "\n",
      "7*1= 7\t8*1= 8\t9*1= 9\t\n",
      "7*2=14\t8*2=16\t9*2=18\t\n",
      "7*3=21\t8*3=24\t9*3=27\t\n",
      "7*4=28\t8*4=32\t9*4=36\t\n",
      "7*5=35\t8*5=40\t9*5=45\t\n",
      "7*6=42\t8*6=48\t9*6=54\t\n",
      "7*7=49\t8*7=56\t9*7=63\t\n",
      "7*8=56\t8*8=64\t9*8=72\t\n",
      "7*9=63\t8*9=72\t9*9=81\t\n",
      "\n"
     ]
    }
   ],
   "source": [
    "for x in range(0,3):\n",
    "    for y in range(1,10):\n",
    "        for z in range(1,4):\n",
    "            m = x*3+z\n",
    "            print ('%d*%d=%2d' % (m,y,m*y), end='\\t')      \n",
    "        print ()\n",
    "    print ()"
   ]
  },
  {
   "cell_type": "markdown",
   "metadata": {},
   "source": [
    "## Step 5: List functions\n",
    "* append()\tAdds an element at the end of the list\n",
    "* reverse()\tReverses the order of the list\n",
    "* sort()\tSorts the list\n",
    "* len()  returns the number of items"
   ]
  },
  {
   "cell_type": "code",
   "execution_count": 24,
   "metadata": {},
   "outputs": [
    {
     "data": {
      "text/plain": [
       "4"
      ]
     },
     "execution_count": 24,
     "metadata": {},
     "output_type": "execute_result"
    }
   ],
   "source": [
    "a = ['John', 'Mary', 'Lisa']\n",
    "a.append('sumith')\n",
    "b=a\n",
    "b\n",
    "b.reverse()\n",
    "len(b)"
   ]
  },
  {
   "cell_type": "markdown",
   "metadata": {},
   "source": [
    "## Step 6: if condition, while condition\n",
    "* if condition: ....\n",
    "* while condition: ....\n",
    "* Equals: a == b\n",
    "* Not Equals: a != b\n",
    "* Less than: a < b\n",
    "* Less than or equal to: a <= b\n",
    "* Greater than: a > b\n",
    "* Greater than or equal to: a >= b"
   ]
  },
  {
   "cell_type": "code",
   "execution_count": 26,
   "metadata": {},
   "outputs": [
    {
     "name": "stdout",
     "output_type": "stream",
     "text": [
      "The greater is {}\n"
     ]
    }
   ],
   "source": [
    "a = 2; b = 3\n",
    "if a<b:\n",
    "    print(\"The greater is {}\", )\n",
    "else:\n",
    "    print(\"IT WORKS\")"
   ]
  },
  {
   "cell_type": "markdown",
   "metadata": {},
   "source": [
    "## Step 7: Boolean Values, Null objects, Ellipsis  \n",
    "* False and True\n",
    "* Null\n",
    "* ..."
   ]
  },
  {
   "cell_type": "code",
   "execution_count": null,
   "metadata": {},
   "outputs": [],
   "source": []
  },
  {
   "cell_type": "markdown",
   "metadata": {},
   "source": [
    "## Step 8: Operators\n",
    "*Logical Operators or / and / not\n",
    "*Identity Operators is / is not\n",
    "*Membership Operators in / not in\n",
    "*Bitwise Operators & AND/|OR /^\tXOR\t/~ NOT\t"
   ]
  },
  {
   "cell_type": "code",
   "execution_count": null,
   "metadata": {},
   "outputs": [],
   "source": []
  }
 ],
 "metadata": {
  "kernelspec": {
   "display_name": "Python 3",
   "language": "python",
   "name": "python3"
  },
  "language_info": {
   "codemirror_mode": {
    "name": "ipython",
    "version": 3
   },
   "file_extension": ".py",
   "mimetype": "text/x-python",
   "name": "python",
   "nbconvert_exporter": "python",
   "pygments_lexer": "ipython3",
   "version": "3.6.5"
  }
 },
 "nbformat": 4,
 "nbformat_minor": 2
}
