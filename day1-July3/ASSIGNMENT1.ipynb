{
  "nbformat": 4,
  "nbformat_minor": 0,
  "metadata": {
    "colab": {
      "name": "Untitled2.ipynb",
      "version": "0.3.2",
      "provenance": [],
      "include_colab_link": true
    },
    "kernelspec": {
      "name": "python3",
      "display_name": "Python 3"
    }
  },
  "cells": [
    {
      "cell_type": "markdown",
      "metadata": {
        "id": "view-in-github",
        "colab_type": "text"
      },
      "source": [
        "[View in Colaboratory](https://colab.research.google.com/github/sumith97/AUAISummer2018/blob/master/day1-July3/ASSIGNMENT1.ipynb)"
      ]
    },
    {
      "metadata": {
        "id": "Z3pWM9koJ7M2",
        "colab_type": "code",
        "colab": {}
      },
      "cell_type": "code",
      "source": [
        ""
      ],
      "execution_count": 0,
      "outputs": []
    },
    {
      "metadata": {
        "id": "WVLzFIr5J-Ay",
        "colab_type": "text"
      },
      "cell_type": "markdown",
      "source": [
        "#THIS IS A TRIAL\n",
        "\n",
        "1. Item 1\n",
        "1. Item 2\n",
        "1. Item 3\n",
        "\n",
        "##NEW\n",
        "\n",
        "* Item 1\n",
        "* Item 2\n",
        "\n",
        "###HYPER LINKS\n",
        "\n",
        "1. http://www.asia.edu.tw\n",
        "* http://www.asia.edu.tw\n",
        "\n",
        "### TABLES\n",
        "\n",
        "First Header | Second Header\n",
        "------------ | -------------\n",
        "Content from cell 1 | Content from cell 2\n",
        "Content in the first column | Content in the second column"
      ]
    }
  ]
}